{
  "nbformat": 4,
  "nbformat_minor": 0,
  "metadata": {
    "colab": {
      "provenance": [],
      "toc_visible": true,
      "include_colab_link": true
    },
    "kernelspec": {
      "name": "python3",
      "display_name": "Python 3"
    },
    "language_info": {
      "name": "python"
    }
  },
  "cells": [
    {
      "cell_type": "markdown",
      "metadata": {
        "id": "view-in-github",
        "colab_type": "text"
      },
      "source": [
        "<a href=\"https://colab.research.google.com/github/Kativic/Projeto1/blob/main/Exer_Pandas.ipynb\" target=\"_parent\"><img src=\"https://colab.research.google.com/assets/colab-badge.svg\" alt=\"Open In Colab\"/></a>"
      ]
    },
    {
      "cell_type": "markdown",
      "source": [
        "##Instalação de bibliotecas"
      ],
      "metadata": {
        "id": "8PZikd49xHyX"
      }
    },
    {
      "cell_type": "code",
      "source": [
        "pip install gcsfs"
      ],
      "metadata": {
        "id": "I50GuCAPdP9f"
      },
      "execution_count": null,
      "outputs": []
    },
    {
      "cell_type": "code",
      "source": [
        "pip install pandera"
      ],
      "metadata": {
        "id": "Je7hMa4FJBh8"
      },
      "execution_count": null,
      "outputs": []
    },
    {
      "cell_type": "markdown",
      "source": [
        "##Declaração das LIBS"
      ],
      "metadata": {
        "id": "ZLFV4uef7Oy1"
      }
    },
    {
      "cell_type": "code",
      "source": [
        "import pandas as pd\n",
        "import os\n",
        "import numpy as np\n",
        "from google.cloud import storage\n",
        "import pandera as pa"
      ],
      "metadata": {
        "id": "owr3eZcb7C8l"
      },
      "execution_count": null,
      "outputs": []
    },
    {
      "cell_type": "markdown",
      "source": [
        "##Config . do pandas"
      ],
      "metadata": {
        "id": "ZFNdOrTI_e8P"
      }
    },
    {
      "cell_type": "code",
      "source": [
        "pd.set_option('display.max_columns',100)"
      ],
      "metadata": {
        "id": "MGW_m5T-_d7K"
      },
      "execution_count": null,
      "outputs": []
    },
    {
      "cell_type": "markdown",
      "source": [
        "##Conector para Cloud Storage(bucket)"
      ],
      "metadata": {
        "id": "cnD7n-ee8MQu"
      }
    },
    {
      "cell_type": "code",
      "execution_count": null,
      "metadata": {
        "id": "LC472qZZby-4"
      },
      "outputs": [],
      "source": [
        "#CONFIGURANDO DA CHAVE DE SEGURANCA (Enviada com o projeto)\n",
        "\n",
        "serviceAccount = '/content/ad1-soulcode-590cc7ea2211.json'\n",
        "os.environ['GOOGLE_APPLICATION_CREDENTIALS'] = serviceAccount"
      ]
    },
    {
      "cell_type": "code",
      "source": [
        "client = storage.Client()\n",
        "bucket = client.get_bucket('katiasantos01')\n",
        "bucket.blob('amsterdam_weekdays (1).csv')\n",
        "path = 'gs://katiasantos01/brutos /amsterdam_weekdays (1).csv'"
      ],
      "metadata": {
        "id": "17ymt9YhcEoB"
      },
      "execution_count": null,
      "outputs": []
    },
    {
      "cell_type": "markdown",
      "source": [
        "##Extração dos dados(Extract)"
      ],
      "metadata": {
        "id": "GbnX0TtHywU9"
      }
    },
    {
      "cell_type": "code",
      "source": [
        "df = pd.read_csv(path,sep=';',encoding='ISO-8859-1',parse_dates=['ocorrencia_dia'],dayfirst=True)"
      ],
      "metadata": {
        "id": "WI93bN41zMPt"
      },
      "execution_count": null,
      "outputs": []
    },
    {
      "cell_type": "markdown",
      "source": [
        "##Pré analise"
      ],
      "metadata": {
        "id": "3fqQiKKqCk3B"
      }
    },
    {
      "cell_type": "code",
      "source": [
        "#Visualização do arquivo(dados)\n",
        "df"
      ],
      "metadata": {
        "id": "2anV-q_63EFk"
      },
      "execution_count": null,
      "outputs": []
    },
    {
      "cell_type": "code",
      "source": [
        "#Vis . do df começando pelo cabeçalho\n",
        "df.head(3)"
      ],
      "metadata": {
        "id": "Y4P0KUZuMQq9"
      },
      "execution_count": null,
      "outputs": []
    },
    {
      "cell_type": "code",
      "source": [
        "#Vis . do df começando pelo final \n",
        "df.tail(1)"
      ],
      "metadata": {
        "id": "LdsOYnWTDpXQ"
      },
      "execution_count": null,
      "outputs": []
    },
    {
      "cell_type": "code",
      "source": [
        "#Tipo de dados das colunas\n",
        "df.dtypes"
      ],
      "metadata": {
        "id": "rRif5OOFE0LP"
      },
      "execution_count": null,
      "outputs": []
    },
    {
      "cell_type": "code",
      "source": [
        "#Tam. do DF\n",
        "df.shape"
      ],
      "metadata": {
        "colab": {
          "base_uri": "https://localhost:8080/"
        },
        "id": "9phL2JuwNM-u",
        "outputId": "a1d4dbdb-42dc-418f-c3bc-2e63ee385913"
      },
      "execution_count": null,
      "outputs": [
        {
          "output_type": "execute_result",
          "data": {
            "text/plain": [
              "(6769, 22)"
            ]
          },
          "metadata": {},
          "execution_count": 42
        }
      ]
    },
    {
      "cell_type": "code",
      "source": [
        "#Info detalhada do DF\n",
        "df.info()"
      ],
      "metadata": {
        "id": "sNaBE6-tNeEd"
      },
      "execution_count": null,
      "outputs": []
    },
    {
      "cell_type": "code",
      "source": [
        "#Verifica se dados são unicos na coluna\n",
        "df.codigo_ocorrencia.is_unique"
      ],
      "metadata": {
        "colab": {
          "base_uri": "https://localhost:8080/"
        },
        "id": "FUlP7wZ0PPil",
        "outputId": "a793578b-08ba-4c72-dc5d-0ebd920ea273"
      },
      "execution_count": null,
      "outputs": [
        {
          "output_type": "execute_result",
          "data": {
            "text/plain": [
              "True"
            ]
          },
          "metadata": {},
          "execution_count": 46
        }
      ]
    },
    {
      "cell_type": "code",
      "source": [
        "#Setar novo rótulo do DF\n",
        "df.set_index('codigo_ocorrencia',inplace=True)"
      ],
      "metadata": {
        "id": "SAnGtgTORD98"
      },
      "execution_count": null,
      "outputs": []
    },
    {
      "cell_type": "code",
      "source": [
        "#resetar o Rotulo(index) do DF\n",
        "df.reset_index(inplace=True)"
      ],
      "metadata": {
        "id": "kCFh0EtxTjIM"
      },
      "execution_count": null,
      "outputs": []
    },
    {
      "cell_type": "markdown",
      "source": [
        "##Tranformações (Limpeza, conversão , etc)"
      ],
      "metadata": {
        "id": "-wQLHEFtZQOR"
      }
    },
    {
      "cell_type": "code",
      "source": [
        "#Backup local(M.RAM) do df\n",
        "dfback = df.copy()"
      ],
      "metadata": {
        "id": "BR7WN3bjj1xX"
      },
      "execution_count": null,
      "outputs": []
    },
    {
      "cell_type": "code",
      "source": [
        "# Drop de colunas identicas ( codigo_ocorrencia1 , codigo_ocorrencia2,codigo_ocorrencia3 , codigo_ocorrencia4)\n",
        "df.drop(['codigo_ocorrencia1','codigo_ocorrencia2','codigo_ocorrencia3','codigo_ocorrencia4'],axis=1,inplace=True)\n",
        "# Drop de colunas com problemas e/ou não utilizadas na analise\n",
        "df.drop(['ocorrencia_latitude','ocorrencia_longitude','investigacao_aeronave_liberada','investigacao_status','divulgacao_relatorio_numero','divulgacao_relatorio_publicado','divulgacao_dia_publicacao'],axis=1,inplace=True)"
      ],
      "metadata": {
        "id": "3jo4RD94aVt5"
      },
      "execution_count": null,
      "outputs": []
    },
    {
      "cell_type": "code",
      "source": [
        "df.drop(['data','horario'],axis=1,inplace=True)"
      ],
      "metadata": {
        "id": "VOmopvGdeTL7"
      },
      "execution_count": null,
      "outputs": []
    },
    {
      "cell_type": "code",
      "source": [
        "#Renomeando colunas\n",
        "df.rename(columns={'ocorrencia_classificacao':'classificacao','ocorrencia_cidade':'cidade','ocorrencia_uf':'uf','ocorrencia_pais':'pais'},inplace=True)\n",
        "df.rename(columns={'ocorrencia_aerodromo':'aerodromo','ocorrencia_dia':'data','ocorrencia_hora':'horario','total_aeronaves_envolvidas':'n_aeronaves','ocorrencia_saida_pista':'saida_pista'},inplace=True)"
      ],
      "metadata": {
        "id": "UPOPRqzTmfVG"
      },
      "execution_count": null,
      "outputs": []
    },
    {
      "cell_type": "code",
      "source": [
        "#Visualiza valores unicos na coulna\n",
        "pd.unique(df['aerodromo'])"
      ],
      "metadata": {
        "id": "d-nKd_gvltlm"
      },
      "execution_count": null,
      "outputs": []
    },
    {
      "cell_type": "markdown",
      "source": [
        "Inconsistencias encontradas\n",
        "colunas aerodromo , uf\n",
        "\n",
        "```\n",
        "('***', '**NI')\n",
        "```\n",
        "\n"
      ],
      "metadata": {
        "id": "cWbvz2JvqNy1"
      }
    },
    {
      "cell_type": "code",
      "source": [
        "df.replace(['***','**NI'],pd.NA,inplace=True)"
      ],
      "metadata": {
        "id": "rM23-bxGsnnN"
      },
      "execution_count": null,
      "outputs": []
    },
    {
      "cell_type": "code",
      "source": [
        "df.replace(pd.NA,np.NaN,inplace=True)"
      ],
      "metadata": {
        "id": "nhbL1DShAfh6"
      },
      "execution_count": null,
      "outputs": []
    },
    {
      "cell_type": "code",
      "source": [
        "#Converter coluna data para string\n",
        "df['data'] = df['data'].astype(str)"
      ],
      "metadata": {
        "id": "z3GvYA1xcwTq"
      },
      "execution_count": null,
      "outputs": []
    },
    {
      "cell_type": "code",
      "source": [
        "#Criar coluna periodo (data + horario)\n",
        "df['periodo'] = pd.to_datetime(df['data']+' '+df['horario'])"
      ],
      "metadata": {
        "id": "lYnx-f-idFjj"
      },
      "execution_count": null,
      "outputs": []
    },
    {
      "cell_type": "code",
      "source": [
        "#Verificar dados Nulos , ausentes , etc\n",
        "df.isna().sum()"
      ],
      "metadata": {
        "id": "JU751msCERRi"
      },
      "execution_count": null,
      "outputs": []
    },
    {
      "cell_type": "code",
      "source": [
        "df.count()"
      ],
      "metadata": {
        "id": "PV0U3HUUJOjH"
      },
      "execution_count": null,
      "outputs": []
    },
    {
      "cell_type": "markdown",
      "source": [
        "##Criação do Schema de validação de dados"
      ],
      "metadata": {
        "id": "Gie074KWLAJV"
      }
    },
    {
      "cell_type": "code",
      "source": [
        "df.dtypes"
      ],
      "metadata": {
        "id": "b0CpqzDILX58"
      },
      "execution_count": null,
      "outputs": []
    },
    {
      "cell_type": "code",
      "source": [
        "#Criação do schema pandera\n",
        "\n",
        "schema = pa.DataFrameSchema(\n",
        "    columns = {\n",
        "        'codigo_ocorrencia':pa.Column(pa.Int),\n",
        "        'classificacao':pa.Column(pa.String),\n",
        "        'cidade':pa.Column(pa.String),\n",
        "        'uf':pa.Column(pa.String,pa.Check.str_length(2,2),nullable=True),\n",
        "        'pais':pa.Column(pa.String),\n",
        "        'aerodromo':pa.Column(pa.String,pa.Check.str_length(4,4),nullable=True),\n",
        "        'data':pa.Column(pa.DateTime),\n",
        "        'horario':pa.Column(pa.String,pa.Check.str_matches(r'^([0-1]?[0-9]|[2][0-3]):([0-5][0-9]):([0-5][0-9])?$'),nullable=True),\n",
        "        'total_recomendacoes':pa.Column(pa.Int),\n",
        "        'n_aeronaves':pa.Column(pa.Int),\n",
        "        'saida_pista':pa.Column(pa.String,pa.Check.str_length(3,3)),\n",
        "    }\n",
        ")\n",
        "\n",
        "schema2 = pa.DataFrameSchema(\n",
        "    columns = {\n",
        "        'codigo_ocorrencia':pa.Column(pa.Int),\n",
        "        'classificacao':pa.Column(pa.String),\n",
        "        'cidade':pa.Column(pa.String),\n",
        "        'uf':pa.Column(pa.String,pa.Check.str_length(2,2),nullable=True),\n",
        "        'pais':pa.Column(pa.String),\n",
        "        'aerodromo':pa.Column(pa.String,pa.Check.str_length(4,4),nullable=True),\n",
        "        'total_recomendacoes':pa.Column(pa.Int),\n",
        "        'n_aeronaves':pa.Column(pa.Int),\n",
        "        'saida_pista':pa.Column(pa.String,pa.Check.str_length(3,3)),\n",
        "        'periodo':pa.Column(pa.DateTime,nullable=True),\n",
        "    }\n",
        ")"
      ],
      "metadata": {
        "id": "l2K4rdJTLEZk"
      },
      "execution_count": null,
      "outputs": []
    },
    {
      "cell_type": "code",
      "source": [
        "df.loc[0,'aerodromo'] = 'SBSP'"
      ],
      "metadata": {
        "id": "yAg1huKQaYBK"
      },
      "execution_count": null,
      "outputs": []
    },
    {
      "cell_type": "code",
      "source": [
        "schema2.validate(df)"
      ],
      "metadata": {
        "id": "yTE1LSXrYYFJ"
      },
      "execution_count": null,
      "outputs": []
    },
    {
      "cell_type": "markdown",
      "source": [
        "##Busca(query)"
      ],
      "metadata": {
        "id": "7XI9W87FM1ll"
      }
    },
    {
      "cell_type": "code",
      "source": [
        "#alterar um valor \n",
        "df.loc[0,'aerodromo'] = 'SBSP'"
      ],
      "metadata": {
        "id": "fJaRuaymM6Qu"
      },
      "execution_count": null,
      "outputs": []
    },
    {
      "cell_type": "code",
      "source": [
        "#busca avançada\n",
        "df.loc[[0,1000,2000],['classificacao','uf']]"
      ],
      "metadata": {
        "id": "8QsykGudPJ_1"
      },
      "execution_count": null,
      "outputs": []
    },
    {
      "cell_type": "code",
      "source": [
        "df.loc[df.classificacao == 'INCIDENTE GRAVE',['classificacao']] = 'YURI'"
      ],
      "metadata": {
        "id": "79GNx9UmP4p9"
      },
      "execution_count": null,
      "outputs": []
    },
    {
      "cell_type": "code",
      "source": [
        "df.loc[df.classificacao == 'YURI',['classificacao']] = 'INCIDENTE GRAVE'"
      ],
      "metadata": {
        "id": "IPQ9k0IDR3PE"
      },
      "execution_count": null,
      "outputs": []
    },
    {
      "cell_type": "code",
      "source": [
        "df['backaero'] = df.aerodromo"
      ],
      "metadata": {
        "id": "1au_ldWaQ7CA"
      },
      "execution_count": null,
      "outputs": []
    },
    {
      "cell_type": "code",
      "source": [
        "df.loc[0,'n_aeronaves'] = '1'"
      ],
      "metadata": {
        "id": "AhZiIpvhSUnN"
      },
      "execution_count": null,
      "outputs": []
    },
    {
      "cell_type": "code",
      "source": [
        "#conversão do tipo das colunas\n",
        "df['n_aeronaves'] = df['n_aeronaves'].astype('int')"
      ],
      "metadata": {
        "id": "O3WzcF8eXoV3"
      },
      "execution_count": null,
      "outputs": []
    },
    {
      "cell_type": "markdown",
      "source": [
        "##Filtros"
      ],
      "metadata": {
        "id": "tmoyASE2YxlC"
      }
    },
    {
      "cell_type": "code",
      "source": [
        "df.isna().sum()"
      ],
      "metadata": {
        "id": "Gn-swZ2qZ8Z2"
      },
      "execution_count": null,
      "outputs": []
    },
    {
      "cell_type": "code",
      "source": [
        "filtronulo = df.uf.isna()\n",
        "df.loc[filtronulo]"
      ],
      "metadata": {
        "id": "LzfZ4Q-LZHHr"
      },
      "execution_count": null,
      "outputs": []
    },
    {
      "cell_type": "code",
      "source": [
        "filtroincidente = df.classificacao =='INCIDENTE'\n",
        "#dfacidente = df.loc[filtroacidente]"
      ],
      "metadata": {
        "id": "gU1e_TaIa7Pp"
      },
      "execution_count": null,
      "outputs": []
    },
    {
      "cell_type": "code",
      "source": [
        "#filtro com mais detalhes\n",
        "ftcidade = df.cidade == 'SÃO PAULO'\n",
        "ftpista = df.saida_pista  == 'SIM'\n",
        "ft2021 = df.data.dt.year == 2021\n",
        "ftuf = df.uf == 'SP'"
      ],
      "metadata": {
        "id": "KZ__cCfKbshs"
      },
      "execution_count": null,
      "outputs": []
    },
    {
      "cell_type": "code",
      "source": [
        "dfsp = df.loc[ftpista & ft2021 & ftuf]"
      ],
      "metadata": {
        "id": "ZwH-ufl7cZ6e"
      },
      "execution_count": null,
      "outputs": []
    },
    {
      "cell_type": "code",
      "source": [
        "ftabril = df.data.dt.month == 4\n",
        "ftquinz = (df.data.dt.day > 0) & (df.data.dt.day <16)\n",
        "df.loc[ftabril & ftquinz]"
      ],
      "metadata": {
        "id": "pg0QfTxdd-1c"
      },
      "execution_count": null,
      "outputs": []
    },
    {
      "cell_type": "code",
      "source": [
        "# Filtro para palavras terminadas em RIO\n",
        "filtroletras = df.cidade.str[-3:] == 'RIO'\n",
        "df.loc[filtroletras]"
      ],
      "metadata": {
        "id": "19z9qF1z8QDp"
      },
      "execution_count": null,
      "outputs": []
    },
    {
      "cell_type": "code",
      "source": [
        "#Filtro para letras dentro do valor\n",
        "filtrointerno = df.cidade.str.contains('MA')"
      ],
      "metadata": {
        "id": "MlYg_07y-LV_"
      },
      "execution_count": null,
      "outputs": []
    },
    {
      "cell_type": "code",
      "source": [
        "df.loc[filtrointerno]"
      ],
      "metadata": {
        "id": "vP6xUf5i-j8E"
      },
      "execution_count": null,
      "outputs": []
    },
    {
      "cell_type": "markdown",
      "source": [
        "##GroupBY ( Agrupamentos)"
      ],
      "metadata": {
        "id": "uwNN81Xc_-Ny"
      }
    },
    {
      "cell_type": "code",
      "source": [
        "df.groupby(['classificacao']).size().sort_values(ascending=False)"
      ],
      "metadata": {
        "id": "P92FxWX-ABfz"
      },
      "execution_count": null,
      "outputs": []
    },
    {
      "cell_type": "code",
      "source": [
        "df.groupby(['aerodromo'],dropna=False).size().sort_values(ascending=False)"
      ],
      "metadata": {
        "id": "nyGr7eFjFPo3"
      },
      "execution_count": null,
      "outputs": []
    },
    {
      "cell_type": "code",
      "source": [
        "dfacidente.groupby(['aerodromo'],dropna=False).size().sort_values(ascending=False)"
      ],
      "metadata": {
        "id": "wZ8XAEYQGmLC"
      },
      "execution_count": null,
      "outputs": []
    },
    {
      "cell_type": "code",
      "source": [
        "#filtro sul e incidentes\n",
        "filtrosul = df.uf.isin(['RS','PR','SC'])\n",
        "dfsul = df.loc[filtroincidente & filtrosul]"
      ],
      "metadata": {
        "id": "SvqY_0GrHXkL"
      },
      "execution_count": null,
      "outputs": []
    },
    {
      "cell_type": "code",
      "source": [
        "dfsul.groupby(['uf']).size().sort_values(ascending=False)"
      ],
      "metadata": {
        "id": "5jU_-Fq-HxZ7"
      },
      "execution_count": null,
      "outputs": []
    },
    {
      "cell_type": "code",
      "source": [
        "dfsp.groupby(['classificacao']).size().sort_values(ascending=False)"
      ],
      "metadata": {
        "id": "MwMEKFwGJTLv"
      },
      "execution_count": null,
      "outputs": []
    },
    {
      "cell_type": "markdown",
      "source": [
        "##Plotagem"
      ],
      "metadata": {
        "id": "bDiUZrC_PF0B"
      }
    },
    {
      "cell_type": "code",
      "source": [
        "df.groupby(['uf'],dropna=False).size().sort_values(ascending=False).plot.bar(figsize=(12,8),xlabel='ESTADO',ylabel='N. Ocorrencias')"
      ],
      "metadata": {
        "id": "q_2X_jVhK0xY"
      },
      "execution_count": null,
      "outputs": []
    },
    {
      "cell_type": "code",
      "source": [
        "df.groupby('saida_pista',dropna=False).size().sort_values(ascending=False).plot.pie()"
      ],
      "metadata": {
        "id": "0jooKYs1QzK4"
      },
      "execution_count": null,
      "outputs": []
    },
    {
      "cell_type": "markdown",
      "source": [
        "##LOAD (Carregamento) salvar o df."
      ],
      "metadata": {
        "id": "oIHcNZo-kdUl"
      }
    },
    {
      "cell_type": "code",
      "source": [
        "#Utilizar se for o rotulo padrão \n",
        "df.to_csv('cenipa_tratado_ok.csv',index=False)"
      ],
      "metadata": {
        "id": "C1GPM_HgkiF1"
      },
      "execution_count": null,
      "outputs": []
    },
    {
      "cell_type": "code",
      "source": [
        "#Carregar direto no bucket\n",
        "df.to_csv('gs://igorgondim01/tratados/cenipa_tratado.csv',index=False)"
      ],
      "metadata": {
        "id": "XUHz-Yseny2N"
      },
      "execution_count": null,
      "outputs": []
    }
  ]
}